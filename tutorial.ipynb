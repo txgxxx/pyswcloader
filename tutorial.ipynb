{
 "cells": [
  {
   "cell_type": "code",
   "execution_count": 1,
   "id": "9c00c565",
   "metadata": {},
   "outputs": [],
   "source": [
    "import pyswcloader\n",
    "import os\n",
    "import urllib"
   ]
  },
  {
   "cell_type": "code",
   "execution_count": 2,
   "id": "3129f5cb",
   "metadata": {},
   "outputs": [],
   "source": [
    "# data_path = $DATA_PATH\n",
    "# save_path = $SAVE_PATH"
   ]
  },
  {
   "cell_type": "code",
   "execution_count": 3,
   "id": "0a93b0b7",
   "metadata": {},
   "outputs": [],
   "source": [
    "data_path = '/home/gao/Downloads/testdata/'\n",
    "save_path = '/home/gao/Downloads/testdata/'"
   ]
  },
  {
   "cell_type": "markdown",
   "id": "d2edb2d1",
   "metadata": {},
   "source": [
    "# mirror swc data to the same side"
   ]
  },
  {
   "cell_type": "code",
   "execution_count": 5,
   "id": "42badf0c",
   "metadata": {},
   "outputs": [
    {
     "name": "stdout",
     "output_type": "stream",
     "text": [
      "/home/gao/Downloads/testdata/200582-039.swc: more than one soma detected -> parent=-1.\n",
      "/home/gao/Downloads/testdata/17099-012.swc: more than one soma detected -> type=1.\n"
     ]
    }
   ],
   "source": [
    "for path in pyswcloader.swc.read_neuron_path(data_path):\n",
    "    neuron_name = os.path.basename(path)\n",
    "    data = pyswcloader.swc.swc_preprocess(path, \n",
    "                                          save=True, \n",
    "                                          save_path=os.path.join(save_path, neuron_name),\n",
    "                                          check_validity=True,  #check swc validity by checking soma numbers\n",
    "                                          flip=True,  #flip all neurons to the left side of the brain\n",
    "                                          dimension=[13200, 8000, 11400],  #check outliers, default dimension: mouse template brain\n",
    "                                         )"
   ]
  },
  {
   "cell_type": "markdown",
   "id": "e7cbd416",
   "metadata": {},
   "source": [
    "# data overview"
   ]
  },
  {
   "cell_type": "code",
   "execution_count": 6,
   "id": "0dd372fb",
   "metadata": {},
   "outputs": [
    {
     "name": "stderr",
     "output_type": "stream",
     "text": [
      "100%|██████████| 10/10 [00:00<00:00, 38.78it/s]\n"
     ]
    },
    {
     "data": {
      "image/png": "[encoded data removed]",
      "text/plain": [
       "<Figure size 432x288 with 3 Axes>"
      ]
     },
     "metadata": {
      "needs_background": "light"
     },
     "output_type": "display_data"
    }
   ],
   "source": [
    "plot = pyswcloader.swc.plot_soma_distribution(data_path)"
   ]
  },
  {
   "cell_type": "markdown",
   "id": "d4836dde",
   "metadata": {},
   "source": [
    "# load brain information"
   ]
  },
  {
   "cell_type": "code",
   "execution_count": null,
   "id": "2fe60eb3",
   "metadata": {},
   "outputs": [],
   "source": [
    "# download denpendency files\n",
    "\n",
    "# annotated allen template brain\n",
    "urllib.request.urlretrieve('http://download.alleninstitute.org/informatics-archive/current-release/mouse_ccf/annotation/ccf_2017/annotation_10.nrrd',\n",
    "                           'annotation_10.nrrd')\n",
    "\n",
    "# allen template brain annotation\n",
    "urllib.request.urlretrieve('http://api.brain-map.org/api/v2/structure_graph_download/1.json',\n",
    "                           'info.json')"
   ]
  },
  {
   "cell_type": "code",
   "execution_count": 7,
   "id": "e6b87a43",
   "metadata": {},
   "outputs": [
    {
     "name": "stdout",
     "output_type": "stream",
     "text": [
      "(1320, 800, 1140)\n"
     ]
    }
   ],
   "source": [
    "anno = pyswcloader.brain.read_nrrd('annotation_10.nrrd')"
   ]
  },
  {
   "cell_type": "code",
   "execution_count": 8,
   "id": "a295f0dc",
   "metadata": {},
   "outputs": [],
   "source": [
    "# stl_acro_dict = pyswcloader.brain.acronym_dict('info.json')\n",
    "stl_acro_dict = pyswcloader.io.STL_ACRO_DICT"
   ]
  },
  {
   "cell_type": "code",
   "execution_count": null,
   "id": "a733a095",
   "metadata": {},
   "outputs": [],
   "source": [
    "# allen_brain_tree = pyswcloader.brain.allen_brain_tree('info.json')\n",
    "allen_brain_tree = pyswcloader.io.ALLEN_BRAIN_TREE"
   ]
  },
  {
   "cell_type": "markdown",
   "id": "fa0fd455",
   "metadata": {},
   "source": [
    "# calculate projection information"
   ]
  },
  {
   "cell_type": "code",
   "execution_count": null,
   "id": "3428ad17",
   "metadata": {},
   "outputs": [],
   "source": [
    "projection_length = pyswcloader.projection_batch.projection_length(data_path=data_path,\n",
    "                                                                  annotation=anno,\n",
    "                                                                  resolution=10,\n",
    "                                                                  cores=4,)"
   ]
  },
  {
   "cell_type": "code",
   "execution_count": null,
   "id": "2d17344b",
   "metadata": {},
   "outputs": [],
   "source": [
    "projection_length"
   ]
  },
  {
   "cell_type": "code",
   "execution_count": null,
   "id": "1008e437",
   "metadata": {},
   "outputs": [],
   "source": [
    "# change region ids to acronyms\n",
    "projection_length.columns = [stl_acro_dict[item] for item in projection_length.columns]\n",
    "projection_length"
   ]
  },
  {
   "cell_type": "code",
   "execution_count": null,
   "id": "0e05a9e9",
   "metadata": {},
   "outputs": [],
   "source": [
    "terminal_count = pyswcloader.projection_batch.terminal_count(data_path = data_path,\n",
    "                                                            annotation = anno,\n",
    "                                                            resolution = 10,\n",
    "                                                            cores = 4,)"
   ]
  },
  {
   "cell_type": "code",
   "execution_count": null,
   "id": "66993391",
   "metadata": {},
   "outputs": [],
   "source": [
    "terminal_count.columns = [stl_acro_dict[item] for item in terminal_count.columns]"
   ]
  },
  {
   "cell_type": "code",
   "execution_count": null,
   "id": "cf6c4588",
   "metadata": {},
   "outputs": [],
   "source": [
    "terminal_count"
   ]
  },
  {
   "cell_type": "markdown",
   "id": "74511ab5",
   "metadata": {},
   "source": [
    "# calculate morphology distance"
   ]
  },
  {
   "cell_type": "code",
   "execution_count": null,
   "id": "a3900537",
   "metadata": {},
   "outputs": [],
   "source": [
    "scores = pyswcloader.distance.morphology_matrix(data_path = data_path,\n",
    "                                               cores = 4,)"
   ]
  },
  {
   "cell_type": "code",
   "execution_count": null,
   "id": "816f1268",
   "metadata": {},
   "outputs": [],
   "source": [
    "scores"
   ]
  },
  {
   "cell_type": "markdown",
   "id": "4ba78693",
   "metadata": {},
   "source": [
    "# clustering"
   ]
  },
  {
   "cell_type": "code",
   "execution_count": null,
   "id": "9737eec7",
   "metadata": {},
   "outputs": [],
   "source": [
    "info = pyswcloader.cluster.cluster(n_cluster = 3,\n",
    "                                   method = 'hierarchy',\n",
    "                                   feature = 'precomputed',\n",
    "                                  matrix = scores)"
   ]
  },
  {
   "cell_type": "code",
   "execution_count": null,
   "id": "12a840eb",
   "metadata": {},
   "outputs": [],
   "source": [
    "info"
   ]
  },
  {
   "cell_type": "code",
   "execution_count": null,
   "id": "953f7120",
   "metadata": {},
   "outputs": [],
   "source": [
    "# allen template brain whole-brain('root') mesh\n",
    "urllib.request.urlretrieve('http://download.alleninstitute.org/informatics-archive/current-release/mouse_ccf/annotation/ccf_2017/structure_meshes/997.obj',\n",
    "                           '997.obj')"
   ]
  },
  {
   "cell_type": "code",
   "execution_count": null,
   "id": "ff8d083e",
   "metadata": {},
   "outputs": [],
   "source": [
    "# plot subtype 1\n",
    "\n",
    "l = 1\n",
    "canvas = pyswcloader.visualization.plot_neuron_3d(neuron_path = list(info[info.label==l]['file_path']), \n",
    "                                         region_path = '997.obj')\n",
    "canvas"
   ]
  },
  {
   "cell_type": "code",
   "execution_count": null,
   "id": "1b69923c",
   "metadata": {},
   "outputs": [],
   "source": []
  },
  {
   "cell_type": "code",
   "execution_count": null,
   "id": "d5baf4b2",
   "metadata": {},
   "outputs": [],
   "source": []
  }
 ],
 "metadata": {
  "kernelspec": {
   "display_name": "Python 3",
   "language": "python",
   "name": "python3"
  },
  "language_info": {
   "codemirror_mode": {
    "name": "ipython",
    "version": 3
   },
   "file_extension": ".py",
   "mimetype": "text/x-python",
   "name": "python",
   "nbconvert_exporter": "python",
   "pygments_lexer": "ipython3",
   "version": "3.8.8"
  },
  "toc": {
   "base_numbering": 1,
   "nav_menu": {},
   "number_sections": true,
   "sideBar": true,
   "skip_h1_title": false,
   "title_cell": "Table of Contents",
   "title_sidebar": "Contents",
   "toc_cell": false,
   "toc_position": {},
   "toc_section_display": true,
   "toc_window_display": false
  }
 },
 "nbformat": 4,
 "nbformat_minor": 5
}
